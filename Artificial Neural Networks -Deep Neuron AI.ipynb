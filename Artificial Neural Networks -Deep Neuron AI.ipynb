{
 "cells": [
  {
   "cell_type": "markdown",
   "metadata": {},
   "source": [
    "# Deep Learning 101\n",
    "\n",
    "This notebook presents the basics concepts that involve the concept of Deep Learning.\n",
    "\n",
    "1. Linear Regression\n",
    "* Logistic Regression\n",
    "* **Artificial Neural Networks**\n",
    "* Deep Neural Networks\n",
    "* Convolutional Neural Networks\n",
    "\n",
    "## 3. Artificial Neural Networks\n",
    "\n",
    "These models are called *feedforward* because information **flows** through the function being evaluated from $x$, through the intermediate computations used to define $f$, and finally to the output $y$.\n",
    "\n",
    "*Feedforward* neural networks are called networks because they are typically represented by composing together many different functions.\n",
    "\n",
    "$$\n",
    "    \\begin{align}\n",
    "    \\hat{y} &= f(x) \\\\\n",
    "            &= f^{(2)}(f^{(1)}(x))\n",
    "    \\end{align}\n",
    "$$\n",
    "\n",
    "$$f^{(i)}(h) = \\sigma_i(W_ih + b_i)$$\n",
    "\n",
    "\n",
    "$$\\hat{y} = \\sigma_2(W_2 \\sigma_1(W_1 x + b_1) + b_2)$$\n",
    "---"
   ]
  },
  {
   "cell_type": "markdown",
   "metadata": {},
   "source": [
    "## Artificial Neural Networks with Keras and TensorFlow\n",
    "\n",
    "**Activations functions** are non-linear functions applied when passing the output of a layer to the next layer or the final\n",
    "\n",
    "| **Keras**      | **Example**                                                         | **Link**                 |\n",
    "| -------------- |:------------------------------------------------------------------: | :-----------------------:|\n",
    "| **Activation functions**| sigmoid, step, tanh, softmax, ReLU | [keras.io/activations/](https://keras.io/activations/)|\n",
    "\n",
    "---\n",
    "\n",
    "## 1. Load data\n",
    "\n",
    "#### Load libraries"
   ]
  },
  {
   "cell_type": "code",
   "execution_count": 1,
   "metadata": {
    "ExecuteTime": {
     "end_time": "2018-05-05T22:57:53.030419Z",
     "start_time": "2018-05-05T22:57:52.612434Z"
    }
   },
   "outputs": [],
   "source": [
    "%matplotlib inline\n",
    "import matplotlib.pyplot as plt\n",
    "\n",
    "import numpy as np"
   ]
  },
  {
   "cell_type": "code",
   "execution_count": 2,
   "metadata": {},
   "outputs": [],
   "source": [
    "from tensorflow.keras.datasets import mnist\n",
    "from tensorflow.keras.layers import Dense\n",
    "from tensorflow.keras.models import Sequential\n",
    "from tensorflow.keras.utils import plot_model, to_categorical"
   ]
  },
  {
   "cell_type": "markdown",
   "metadata": {},
   "source": [
    "#### Getting the data"
   ]
  },
  {
   "cell_type": "code",
   "execution_count": 3,
   "metadata": {
    "ExecuteTime": {
     "end_time": "2018-05-05T22:58:09.437997Z",
     "start_time": "2018-05-05T22:58:09.133163Z"
    }
   },
   "outputs": [],
   "source": [
    "# load dataset\n",
    "(X_train, y_train), (X_test, y_test) = mnist.load_data()"
   ]
  },
  {
   "cell_type": "markdown",
   "metadata": {},
   "source": [
    "#### Explore visual data"
   ]
  },
  {
   "cell_type": "code",
   "execution_count": 4,
   "metadata": {
    "ExecuteTime": {
     "end_time": "2018-05-05T22:58:09.912826Z",
     "start_time": "2018-05-05T22:58:09.440100Z"
    }
   },
   "outputs": [
    {
     "data": {
      "image/png": "[encoded data removed]",
      "text/plain": [
       "<Figure size 432x288 with 10 Axes>"
      ]
     },
     "metadata": {},
     "output_type": "display_data"
    }
   ],
   "source": [
    "fig = plt.figure()\n",
    "for i in range(10):\n",
    "    plt.subplot(2, 5, i+1)\n",
    "    x_y = X_train[y_train == i]\n",
    "    plt.imshow(x_y[0], cmap='gray', interpolation='none')\n",
    "    plt.title(\"Class %d\" % (i))\n",
    "    plt.xticks([])\n",
    "    plt.yticks([])\n",
    "    \n",
    "plt.tight_layout()"
   ]
  },
  {
   "cell_type": "code",
   "execution_count": 5,
   "metadata": {
    "ExecuteTime": {
     "end_time": "2018-05-05T22:58:09.921681Z",
     "start_time": "2018-05-05T22:58:09.914854Z"
    }
   },
   "outputs": [
    {
     "name": "stdout",
     "output_type": "stream",
     "text": [
      "X_train.shape (60000, 28, 28)\n",
      "y_train.shape (60000,)\n",
      "X_test.shape (10000, 28, 28)\n",
      "y_train.shape (10000,)\n"
     ]
    }
   ],
   "source": [
    "print('X_train.shape', X_train.shape)\n",
    "print('y_train.shape', y_train.shape)\n",
    "print('X_test.shape', X_test.shape)\n",
    "print('y_train.shape', y_test.shape)"
   ]
  },
  {
   "cell_type": "markdown",
   "metadata": {},
   "source": [
    "#### Reshaping and normalizing the inputs"
   ]
  },
  {
   "cell_type": "code",
   "execution_count": 6,
   "metadata": {
    "ExecuteTime": {
     "end_time": "2018-05-05T22:58:10.139272Z",
     "start_time": "2018-05-05T22:58:09.923779Z"
    }
   },
   "outputs": [
    {
     "name": "stdout",
     "output_type": "stream",
     "text": [
      "X_train reshape: (60000, 784)\n",
      "X_test reshape: (10000, 784)\n"
     ]
    }
   ],
   "source": [
    "# reshaping the inputs\n",
    "X_train = X_train.reshape(60000, 28*28)\n",
    "X_test = X_test.reshape(10000, 28*28)\n",
    "\n",
    "# normalizing the inputs\n",
    "X_train = X_train.astype('float32') / 255.0\n",
    "X_test = X_test.astype('float32') / 255.0\n",
    "print('X_train reshape:', X_train.shape)\n",
    "print('X_test reshape:', X_test.shape)"
   ]
  },
  {
   "cell_type": "markdown",
   "metadata": {},
   "source": [
    "#### Convert class vectors to binary class matrices"
   ]
  },
  {
   "cell_type": "code",
   "execution_count": 7,
   "metadata": {
    "ExecuteTime": {
     "end_time": "2018-05-05T22:58:10.150447Z",
     "start_time": "2018-05-05T22:58:10.141339Z"
    }
   },
   "outputs": [
    {
     "name": "stdout",
     "output_type": "stream",
     "text": [
      "y_train_cat shape: (60000, 10)\n",
      "y_test_cat shape: (10000, 10)\n"
     ]
    }
   ],
   "source": [
    "# 10 classes\n",
    "y_train_cat = to_categorical(y_train, 10)\n",
    "y_test_cat = to_categorical(y_test, 10)\n",
    "\n",
    "print('y_train_cat shape:', y_train_cat.shape)\n",
    "print('y_test_cat shape:', y_test_cat.shape)"
   ]
  },
  {
   "cell_type": "markdown",
   "metadata": {},
   "source": [
    "## 2. Define model"
   ]
  },
  {
   "cell_type": "markdown",
   "metadata": {},
   "source": [
    "#### Add the input-, hidden- and output-layers"
   ]
  },
  {
   "cell_type": "code",
   "execution_count": 8,
   "metadata": {
    "ExecuteTime": {
     "end_time": "2018-05-05T22:58:10.182804Z",
     "start_time": "2018-05-05T22:58:10.152395Z"
    }
   },
   "outputs": [
    {
     "name": "stderr",
     "output_type": "stream",
     "text": [
      "2022-09-04 14:43:45.399186: I tensorflow/core/platform/cpu_feature_guard.cc:193] This TensorFlow binary is optimized with oneAPI Deep Neural Network Library (oneDNN) to use the following CPU instructions in performance-critical operations:  AVX2 FMA\n",
      "To enable them in other operations, rebuild TensorFlow with the appropriate compiler flags.\n"
     ]
    }
   ],
   "source": [
    "# building a linear stack of layers with the sequential model\n",
    "model = Sequential()\n",
    "\n",
    "# Add the input layer and hidden layer 1\n",
    "model.add(Dense(32, input_shape=(784,), activation='sigmoid'))\n",
    "\n",
    "# Add the output layer\n",
    "model.add(Dense(10, activation='softmax'))"
   ]
  },
  {
   "cell_type": "markdown",
   "metadata": {},
   "source": [
    "#### Model visualization"
   ]
  },
  {
   "cell_type": "code",
   "execution_count": 9,
   "metadata": {
    "ExecuteTime": {
     "end_time": "2018-05-05T22:58:14.335955Z",
     "start_time": "2018-05-05T22:58:10.184766Z"
    }
   },
   "outputs": [
    {
     "name": "stdout",
     "output_type": "stream",
     "text": [
      "You must install pydot (`pip install pydot`) and install graphviz (see instructions at https://graphviz.gitlab.io/download/) for plot_model/model_to_dot to work.\n",
      "Model: \"sequential\"\n",
      "_________________________________________________________________\n",
      " Layer (type)                Output Shape              Param #   \n",
      "=================================================================\n",
      " dense (Dense)               (None, 32)                25120     \n",
      "                                                                 \n",
      " dense_1 (Dense)             (None, 10)                330       \n",
      "                                                                 \n",
      "=================================================================\n",
      "Total params: 25,450\n",
      "Trainable params: 25,450\n",
      "Non-trainable params: 0\n",
      "_________________________________________________________________\n"
     ]
    }
   ],
   "source": [
    "# plot a Keras model\n",
    "plot_model(model, to_file='img/model03_ann.png',\n",
    "           show_shapes=True, show_layer_names=True)\n",
    "\n",
    "# prints a summary representation of your model\n",
    "model.summary()"
   ]
  },
  {
   "cell_type": "markdown",
   "metadata": {},
   "source": [
    "![Artificial neural network](img/model03_ann.png)"
   ]
  },
  {
   "cell_type": "markdown",
   "metadata": {},
   "source": [
    "## 3. Compile model"
   ]
  },
  {
   "cell_type": "code",
   "execution_count": 10,
   "metadata": {
    "ExecuteTime": {
     "end_time": "2018-05-05T22:58:14.376880Z",
     "start_time": "2018-05-05T22:58:14.338293Z"
    }
   },
   "outputs": [],
   "source": [
    "# compiling the sequential model\n",
    "model.compile('rmsprop', loss='categorical_crossentropy',\n",
    "              metrics=['categorical_accuracy'])"
   ]
  },
  {
   "cell_type": "markdown",
   "metadata": {},
   "source": [
    "## 4. Fit model"
   ]
  },
  {
   "cell_type": "code",
   "execution_count": null,
   "metadata": {
    "ExecuteTime": {
     "end_time": "2018-05-05T22:59:01.591170Z",
     "start_time": "2018-05-05T22:58:14.378895Z"
    }
   },
   "outputs": [
    {
     "name": "stdout",
     "output_type": "stream",
     "text": [
      "Epoch 1/50\n",
      "235/235 - 1s - loss: 1.1292 - categorical_accuracy: 0.7752 - val_loss: 0.5970 - val_categorical_accuracy: 0.8823 - 985ms/epoch - 4ms/step\n",
      "Epoch 2/50\n",
      "235/235 - 0s - loss: 0.4656 - categorical_accuracy: 0.8926 - val_loss: 0.3625 - val_categorical_accuracy: 0.9097 - 400ms/epoch - 2ms/step\n",
      "Epoch 3/50\n",
      "235/235 - 0s - loss: 0.3335 - categorical_accuracy: 0.9107 - val_loss: 0.2951 - val_categorical_accuracy: 0.9181 - 393ms/epoch - 2ms/step\n",
      "Epoch 4/50\n",
      "235/235 - 0s - loss: 0.2844 - categorical_accuracy: 0.9202 - val_loss: 0.2645 - val_categorical_accuracy: 0.9226 - 409ms/epoch - 2ms/step\n",
      "Epoch 5/50\n",
      "235/235 - 0s - loss: 0.2557 - categorical_accuracy: 0.9278 - val_loss: 0.2413 - val_categorical_accuracy: 0.9299 - 390ms/epoch - 2ms/step\n",
      "Epoch 6/50\n",
      "235/235 - 0s - loss: 0.2352 - categorical_accuracy: 0.9329 - val_loss: 0.2245 - val_categorical_accuracy: 0.9338 - 393ms/epoch - 2ms/step\n",
      "Epoch 7/50\n",
      "235/235 - 0s - loss: 0.2189 - categorical_accuracy: 0.9373 - val_loss: 0.2140 - val_categorical_accuracy: 0.9369 - 387ms/epoch - 2ms/step\n",
      "Epoch 8/50\n",
      "235/235 - 0s - loss: 0.2056 - categorical_accuracy: 0.9406 - val_loss: 0.2027 - val_categorical_accuracy: 0.9406 - 388ms/epoch - 2ms/step\n",
      "Epoch 9/50\n",
      "235/235 - 0s - loss: 0.1944 - categorical_accuracy: 0.9445 - val_loss: 0.1963 - val_categorical_accuracy: 0.9417 - 454ms/epoch - 2ms/step\n",
      "Epoch 10/50\n",
      "235/235 - 0s - loss: 0.1846 - categorical_accuracy: 0.9470 - val_loss: 0.1872 - val_categorical_accuracy: 0.9451 - 419ms/epoch - 2ms/step\n",
      "Epoch 11/50\n",
      "235/235 - 0s - loss: 0.1760 - categorical_accuracy: 0.9493 - val_loss: 0.1799 - val_categorical_accuracy: 0.9469 - 384ms/epoch - 2ms/step\n",
      "Epoch 12/50\n",
      "235/235 - 0s - loss: 0.1684 - categorical_accuracy: 0.9513 - val_loss: 0.1737 - val_categorical_accuracy: 0.9481 - 385ms/epoch - 2ms/step\n",
      "Epoch 13/50\n",
      "235/235 - 0s - loss: 0.1615 - categorical_accuracy: 0.9535 - val_loss: 0.1691 - val_categorical_accuracy: 0.9507 - 388ms/epoch - 2ms/step\n",
      "Epoch 14/50\n",
      "235/235 - 0s - loss: 0.1556 - categorical_accuracy: 0.9554 - val_loss: 0.1642 - val_categorical_accuracy: 0.9517 - 381ms/epoch - 2ms/step\n",
      "Epoch 15/50\n",
      "235/235 - 0s - loss: 0.1500 - categorical_accuracy: 0.9568 - val_loss: 0.1603 - val_categorical_accuracy: 0.9539 - 395ms/epoch - 2ms/step\n",
      "Epoch 16/50\n",
      "235/235 - 0s - loss: 0.1449 - categorical_accuracy: 0.9588 - val_loss: 0.1580 - val_categorical_accuracy: 0.9540 - 385ms/epoch - 2ms/step\n",
      "Epoch 17/50\n",
      "235/235 - 0s - loss: 0.1404 - categorical_accuracy: 0.9600 - val_loss: 0.1555 - val_categorical_accuracy: 0.9550 - 391ms/epoch - 2ms/step\n",
      "Epoch 18/50\n",
      "235/235 - 0s - loss: 0.1358 - categorical_accuracy: 0.9613 - val_loss: 0.1518 - val_categorical_accuracy: 0.9562 - 377ms/epoch - 2ms/step\n",
      "Epoch 19/50\n",
      "235/235 - 0s - loss: 0.1320 - categorical_accuracy: 0.9625 - val_loss: 0.1508 - val_categorical_accuracy: 0.9562 - 380ms/epoch - 2ms/step\n",
      "Epoch 20/50\n",
      "235/235 - 0s - loss: 0.1284 - categorical_accuracy: 0.9637 - val_loss: 0.1464 - val_categorical_accuracy: 0.9570 - 390ms/epoch - 2ms/step\n",
      "Epoch 21/50\n",
      "235/235 - 0s - loss: 0.1250 - categorical_accuracy: 0.9646 - val_loss: 0.1440 - val_categorical_accuracy: 0.9584 - 392ms/epoch - 2ms/step\n",
      "Epoch 22/50\n",
      "235/235 - 0s - loss: 0.1218 - categorical_accuracy: 0.9654 - val_loss: 0.1436 - val_categorical_accuracy: 0.9585 - 390ms/epoch - 2ms/step\n",
      "Epoch 23/50\n",
      "235/235 - 0s - loss: 0.1187 - categorical_accuracy: 0.9666 - val_loss: 0.1417 - val_categorical_accuracy: 0.9590 - 413ms/epoch - 2ms/step\n",
      "Epoch 24/50\n",
      "235/235 - 0s - loss: 0.1159 - categorical_accuracy: 0.9678 - val_loss: 0.1389 - val_categorical_accuracy: 0.9595 - 422ms/epoch - 2ms/step\n",
      "Epoch 25/50\n",
      "235/235 - 0s - loss: 0.1132 - categorical_accuracy: 0.9680 - val_loss: 0.1367 - val_categorical_accuracy: 0.9599 - 403ms/epoch - 2ms/step\n",
      "Epoch 26/50\n",
      "235/235 - 0s - loss: 0.1106 - categorical_accuracy: 0.9689 - val_loss: 0.1353 - val_categorical_accuracy: 0.9602 - 394ms/epoch - 2ms/step\n",
      "Epoch 27/50\n",
      "235/235 - 0s - loss: 0.1081 - categorical_accuracy: 0.9692 - val_loss: 0.1343 - val_categorical_accuracy: 0.9600 - 388ms/epoch - 2ms/step\n",
      "Epoch 28/50\n",
      "235/235 - 0s - loss: 0.1058 - categorical_accuracy: 0.9701 - val_loss: 0.1346 - val_categorical_accuracy: 0.9596 - 384ms/epoch - 2ms/step\n",
      "Epoch 29/50\n",
      "235/235 - 0s - loss: 0.1037 - categorical_accuracy: 0.9712 - val_loss: 0.1317 - val_categorical_accuracy: 0.9606 - 386ms/epoch - 2ms/step\n",
      "Epoch 30/50\n",
      "235/235 - 0s - loss: 0.1015 - categorical_accuracy: 0.9712 - val_loss: 0.1320 - val_categorical_accuracy: 0.9607 - 382ms/epoch - 2ms/step\n",
      "Epoch 31/50\n",
      "235/235 - 0s - loss: 0.0995 - categorical_accuracy: 0.9721 - val_loss: 0.1309 - val_categorical_accuracy: 0.9613 - 387ms/epoch - 2ms/step\n",
      "Epoch 32/50\n",
      "235/235 - 0s - loss: 0.0978 - categorical_accuracy: 0.9726 - val_loss: 0.1290 - val_categorical_accuracy: 0.9619 - 388ms/epoch - 2ms/step\n",
      "Epoch 33/50\n"
     ]
    }
   ],
   "source": [
    "# training the model and saving metrics in history\n",
    "history = model.fit(X_train, y_train_cat,\n",
    "                    batch_size=256, epochs=50,\n",
    "                    verbose=2,\n",
    "                    validation_data=(X_test, y_test_cat))"
   ]
  },
  {
   "cell_type": "markdown",
   "metadata": {},
   "source": [
    "## 5. Evaluate model"
   ]
  },
  {
   "cell_type": "code",
   "execution_count": null,
   "metadata": {
    "ExecuteTime": {
     "end_time": "2018-05-05T22:59:01.928715Z",
     "start_time": "2018-05-05T22:59:01.593686Z"
    }
   },
   "outputs": [],
   "source": [
    "# plotting the metrics\n",
    "fig = plt.figure()\n",
    "plt.subplot(2,1,1)\n",
    "plt.plot(history.history['categorical_accuracy'])\n",
    "plt.plot(history.history['val_categorical_accuracy'])\n",
    "plt.title('model accuracy')\n",
    "plt.ylabel('accuracy')\n",
    "plt.xlabel('epoch')\n",
    "plt.legend(['train', 'test'], loc='lower right')\n",
    "\n",
    "plt.subplot(2,1,2)\n",
    "plt.plot(history.history['loss'])\n",
    "plt.plot(history.history['val_loss'])\n",
    "plt.title('model loss')\n",
    "plt.ylabel('loss')\n",
    "plt.xlabel('epoch')\n",
    "plt.legend(['train', 'test'], loc='upper right')\n",
    "\n",
    "plt.tight_layout()"
   ]
  },
  {
   "cell_type": "code",
   "execution_count": null,
   "metadata": {
    "ExecuteTime": {
     "end_time": "2018-05-05T22:59:02.355093Z",
     "start_time": "2018-05-05T22:59:01.930745Z"
    }
   },
   "outputs": [],
   "source": [
    "# evaluate model on test data\n",
    "[test_loss, test_acc] = model.evaluate(X_test, y_test_cat)\n",
    "print(\"Evaluation result on Test Data:\\nLoss = {}\\nAccuracy = {}\".format(test_loss, test_acc))"
   ]
  },
  {
   "cell_type": "markdown",
   "metadata": {},
   "source": [
    "## References\n",
    "\n",
    "* [Deep Learning Book](http://www.deeplearningbook.org)\n"
   ]
  },
  {
   "cell_type": "code",
   "execution_count": null,
   "metadata": {},
   "outputs": [],
   "source": []
  }
 ],
 "metadata": {
  "kernelspec": {
   "display_name": "Python 3 (ipykernel)",
   "language": "python",
   "name": "python3"
  },
  "language_info": {
   "codemirror_mode": {
    "name": "ipython",
    "version": 3
   },
   "file_extension": ".py",
   "mimetype": "text/x-python",
   "name": "python",
   "nbconvert_exporter": "python",
   "pygments_lexer": "ipython3",
   "version": "3.7.13"
  }
 },
 "nbformat": 4,
 "nbformat_minor": 4
}
