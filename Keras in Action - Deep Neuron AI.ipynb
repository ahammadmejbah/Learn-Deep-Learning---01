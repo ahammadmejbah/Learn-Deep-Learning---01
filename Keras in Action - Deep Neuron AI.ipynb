{
 "cells": [
  {
   "cell_type": "code",
   "execution_count": 1,
   "metadata": {},
   "outputs": [],
   "source": [
    "#Download the data using Keras; this will need an active internet connection\n",
    "from keras.datasets import boston_housing\n",
    "(x_train, y_train), (x_test, y_test) = boston_housing.load_data()"
   ]
  },
  {
   "cell_type": "markdown",
   "metadata": {},
   "source": [
    "### Metadata for the data\n",
    "\n",
    "| Column Name \t| Description                                                           \t|\n",
    "|-------------\t|-----------------------------------------------------------------------\t|\n",
    "| CRIM        \t| per capita crime rate by town                                         \t|\n",
    "| ZN          \t| proportion of residential land zoned for lots over 25,000 sq.ft.      \t|\n",
    "| INDUS       \t| proportion of non-retail business acres per town                      \t|\n",
    "| CHAS        \t| Charles River dummy variable (= 1 if tract bounds river; 0 otherwise) \t|\n",
    "| NOX         \t| nitric oxides concentration (parts per 10 million)                    \t|\n",
    "| RM          \t| average number of rooms per dwelling                                  \t|\n",
    "| AGE         \t| proportion of owner-occupied units built prior to 1940                \t|\n",
    "| DIS         \t| weighted distances to five Boston employment centers                  \t|\n",
    "| RAD         \t| index of accessibility to radial highways                             \t|\n",
    "| TAX         \t| full-value property-tax rate per USD 10,000                              \t|\n",
    "| PTRATIO     \t| pupil-teacher ratio by town                                           \t|\n",
    "| B           \t| 1000(Bk - 0.63)^2 where Bk is the proportion of blacks by town        \t|\n",
    "| LSTAT       \t| Percent lower status of the population                                \t|\n",
    "| MEDV        \t| Median value of owner-occupied homes in USD 1000's                       \t|"
   ]
  },
  {
   "cell_type": "markdown",
   "metadata": {},
   "source": [
    "### Desing the neural network"
   ]
  },
  {
   "cell_type": "code",
   "execution_count": 2,
   "metadata": {},
   "outputs": [
    {
     "name": "stdout",
     "output_type": "stream",
     "text": [
      "Epoch 1/3\n"
     ]
    },
    {
     "name": "stderr",
     "output_type": "stream",
     "text": [
      "2022-09-04 20:09:59.328070: I tensorflow/core/platform/cpu_feature_guard.cc:193] This TensorFlow binary is optimized with oneAPI Deep Neural Network Library (oneDNN) to use the following CPU instructions in performance-critical operations:  AVX2 FMA\n",
      "To enable them in other operations, rebuild TensorFlow with the appropriate compiler flags.\n"
     ]
    },
    {
     "name": "stdout",
     "output_type": "stream",
     "text": [
      "13/13 [==============================] - 0s 12ms/step - loss: 588.4708 - mean_absolute_percentage_error: 100.2140 - val_loss: 676.8470 - val_mean_absolute_percentage_error: 99.4112\n",
      "Epoch 2/3\n",
      "13/13 [==============================] - 0s 3ms/step - loss: 575.4820 - mean_absolute_percentage_error: 98.5319 - val_loss: 660.7275 - val_mean_absolute_percentage_error: 97.6324\n",
      "Epoch 3/3\n",
      "13/13 [==============================] - 0s 3ms/step - loss: 552.3347 - mean_absolute_percentage_error: 95.4639 - val_loss: 618.9402 - val_mean_absolute_percentage_error: 92.8914\n"
     ]
    },
    {
     "data": {
      "text/plain": [
       "<keras.callbacks.History at 0x7fcdef22d3d0>"
      ]
     },
     "execution_count": 2,
     "metadata": {},
     "output_type": "execute_result"
    }
   ],
   "source": [
    "import numpy as np\n",
    "from keras.models import Sequential\n",
    "from keras.layers import Dense, Activation\n",
    "\n",
    "#Extract the last 100 rows from the training data to create the validation datasets.\n",
    "x_val = x_train[300:,]\n",
    "y_val = y_train[300:,]\n",
    "\n",
    "#Define the model architecture\n",
    "model = Sequential()\n",
    "model.add(Dense(13, input_dim=13, kernel_initializer='normal', activation='relu'))\n",
    "model.add(Dense(6, kernel_initializer='normal', activation='relu'))\n",
    "model.add(Dense(1, kernel_initializer='normal'))\n",
    "\n",
    "# Compile model\n",
    "model.compile(loss='mean_squared_error', optimizer='adam', metrics=['mean_absolute_percentage_error'])\n",
    "\n",
    "#Train the model\n",
    "model.fit(x_train, y_train, batch_size=32, epochs=3, validation_data=(x_val,y_val))\n",
    "\n"
   ]
  },
  {
   "cell_type": "markdown",
   "metadata": {},
   "source": [
    "Getting started with Deep Learning \n",
    "* Models"
   ]
  },
  {
   "cell_type": "code",
   "execution_count": 3,
   "metadata": {},
   "outputs": [],
   "source": [
    "from keras.models import Sequential\n",
    "from keras.layers import Dense, Activation\n",
    "\n",
    "model = Sequential()\n",
    "model.add(Dense(10, input_dim=15))\n",
    "model.add(Activation('relu'))\n"
   ]
  },
  {
   "cell_type": "code",
   "execution_count": 4,
   "metadata": {},
   "outputs": [
    {
     "name": "stdout",
     "output_type": "stream",
     "text": [
      "Epoch 1/3\n",
      "94/94 [==============================] - 1s 3ms/step - loss: 0.6934 - accuracy: 0.5042 - val_loss: 0.6924 - val_accuracy: 0.5155\n",
      "Epoch 2/3\n",
      "94/94 [==============================] - 0s 1ms/step - loss: 0.6930 - accuracy: 0.5113 - val_loss: 0.6929 - val_accuracy: 0.5270\n",
      "Epoch 3/3\n",
      "94/94 [==============================] - 0s 1ms/step - loss: 0.6928 - accuracy: 0.5103 - val_loss: 0.6927 - val_accuracy: 0.5080\n"
     ]
    },
    {
     "data": {
      "text/plain": [
       "<keras.callbacks.History at 0x7fcdef5944d0>"
      ]
     },
     "execution_count": 4,
     "metadata": {},
     "output_type": "execute_result"
    }
   ],
   "source": [
    "import numpy as np\n",
    "from keras.models import Sequential\n",
    "from keras.layers import Dense, Activation\n",
    "\n",
    "\n",
    "from numpy.random import seed\n",
    "seed(2018)\n",
    "from tensorflow.compat.v1 import set_random_seed\n",
    "set_random_seed(2018)\n",
    "\n",
    "\n",
    "# Generate dummy training dataset\n",
    "x_train = np.random.random((6000,10))\n",
    "y_train = np.random.randint(2, size=(6000, 1))\n",
    "\n",
    "# Generate dummy validation dataset\n",
    "x_val = np.random.random((2000,10))\n",
    "y_val = np.random.randint(2, size=(2000, 1))\n",
    "\n",
    "# Generate dummy test dataset\n",
    "x_test = np.random.random((2000,10))\n",
    "y_test = np.random.randint(2, size=(2000, 1))\n",
    "\n",
    "#Define the model architecture\n",
    "model = Sequential()\n",
    "model.add(Dense(64, input_dim=10,activation = \"relu\")) #Layer 1\n",
    "model.add(Dense(32,activation = \"relu\"))               #Layer 2\n",
    "model.add(Dense(16,activation = \"relu\"))               #Layer 3\n",
    "model.add(Dense(8,activation = \"relu\"))                #Layer 4\n",
    "model.add(Dense(4,activation = \"relu\"))                #Layer 5\n",
    "model.add(Dense(1,activation = \"sigmoid\"))             #Output Layer\n",
    "\n",
    "#Configure the model\n",
    "model.compile(optimizer='Adam',loss='binary_crossentropy',metrics=['accuracy'])\n",
    "\n",
    "#Train the model\n",
    "model.fit(x_train, y_train, batch_size=64, epochs=3, validation_data=(x_val,y_val))\n"
   ]
  },
  {
   "cell_type": "code",
   "execution_count": 5,
   "metadata": {},
   "outputs": [
    {
     "name": "stdout",
     "output_type": "stream",
     "text": [
      "[[0.88234931 0.10432774 0.90700933 0.3063989  0.44640887 0.58998539\n",
      "  0.8371111  0.69780061 0.80280284 0.10721508]\n",
      " [0.75709253 0.99967101 0.725931   0.14144824 0.3567206  0.94270411\n",
      "  0.61016189 0.22757747 0.66873237 0.69290455]\n",
      " [0.41686251 0.17180956 0.97689051 0.33022414 0.62904415 0.16061095\n",
      "  0.08995264 0.97082236 0.81657757 0.57136573]\n",
      " [0.34585315 0.403744   0.13738304 0.90093449 0.93393613 0.04737714\n",
      "  0.67150688 0.03483186 0.25269136 0.55712505]\n",
      " [0.52582348 0.35296779 0.09298297 0.30450898 0.86242986 0.71693654\n",
      "  0.96407149 0.53970186 0.95053982 0.66798156]\n",
      " [0.87424103 0.48120492 0.13739854 0.69022154 0.50211855 0.07451108\n",
      "  0.52351229 0.91856772 0.5274287  0.36424787]\n",
      " [0.92818629 0.49269142 0.23640703 0.53141538 0.16525533 0.371387\n",
      "  0.74225181 0.23704057 0.39196365 0.05938974]\n",
      " [0.10276893 0.55725012 0.81930231 0.48981038 0.90230697 0.49004436\n",
      "  0.00303589 0.84366215 0.54368872 0.13869147]\n",
      " [0.08572875 0.40161209 0.82697863 0.80616256 0.20954603 0.30218791\n",
      "  0.75345933 0.12518232 0.88233405 0.93448737]\n",
      " [0.142472   0.18949702 0.40460224 0.473948   0.09906794 0.47471235\n",
      "  0.84469429 0.79187259 0.35902305 0.74563608]]\n",
      "sdf\n",
      "[[0.26794846 0.45311343 0.3163587  0.40551464 0.83324812 0.29926402\n",
      "  0.58604988 0.4265123  0.39054642 0.11719099]\n",
      " [0.38835659 0.13661398 0.43791187 0.35953925 0.28232502 0.63733196\n",
      "  0.04315783 0.36698055 0.96092323 0.07970832]\n",
      " [0.78676828 0.4734678  0.78487578 0.55263435 0.57265221 0.79656561\n",
      "  0.98978979 0.9059708  0.85610936 0.4178593 ]\n",
      " [0.13634476 0.01439594 0.63673535 0.31518873 0.26061521 0.41831776\n",
      "  0.83293788 0.03042154 0.89161667 0.12073609]\n",
      " [0.74403628 0.34219727 0.81769273 0.11254841 0.00920876 0.36165523\n",
      "  0.50033997 0.84242664 0.40227329 0.06407224]\n",
      " [0.50533902 0.50701475 0.54050708 0.59235759 0.97741647 0.06884431\n",
      "  0.13387683 0.17632566 0.61302174 0.5997502 ]\n",
      " [0.57084323 0.93229789 0.88993136 0.77996226 0.70914402 0.60017046\n",
      "  0.56650348 0.9040863  0.28178547 0.09585478]\n",
      " [0.76576207 0.61956373 0.47285659 0.62899629 0.01747167 0.12566464\n",
      "  0.12694226 0.31119618 0.08738258 0.36606282]\n",
      " [0.56215208 0.68463042 0.18359825 0.43401489 0.42432408 0.56262951\n",
      "  0.16307223 0.73921326 0.12070907 0.0267515 ]\n",
      " [0.89407057 0.1028051  0.63743563 0.72838004 0.9416155  0.979424\n",
      "  0.05262605 0.19090817 0.74782467 0.13233449]]\n"
     ]
    }
   ],
   "source": [
    "print(x_train[:10])\n",
    "print(\"sdf\")\n",
    "print(x_val[:10])"
   ]
  },
  {
   "cell_type": "code",
   "execution_count": 6,
   "metadata": {},
   "outputs": [
    {
     "name": "stdout",
     "output_type": "stream",
     "text": [
      "Type of the Dataset: <class 'numpy.ndarray'>\n",
      "Shape of training data : (6000, 10)\n",
      "Shape of training labels : (6000, 1)\n",
      "Shape of testing data : <class 'numpy.ndarray'>\n",
      "Shape of testing labels : (2000, 1)\n"
     ]
    }
   ],
   "source": [
    "#Explore the data structure using basic python commands\n",
    "print(\"Type of the Dataset:\",type(y_train))\n",
    "print(\"Shape of training data :\",x_train.shape)\n",
    "print(\"Shape of training labels :\",y_train.shape)\n",
    "print(\"Shape of testing data :\",type(x_test))\n",
    "print(\"Shape of testing labels :\",y_test.shape)"
   ]
  },
  {
   "cell_type": "code",
   "execution_count": 7,
   "metadata": {},
   "outputs": [
    {
     "data": {
      "text/plain": [
       "array([[0.88234931, 0.10432774, 0.90700933, 0.3063989 , 0.44640887,\n",
       "        0.58998539, 0.8371111 , 0.69780061, 0.80280284, 0.10721508],\n",
       "       [0.75709253, 0.99967101, 0.725931  , 0.14144824, 0.3567206 ,\n",
       "        0.94270411, 0.61016189, 0.22757747, 0.66873237, 0.69290455],\n",
       "       [0.41686251, 0.17180956, 0.97689051, 0.33022414, 0.62904415,\n",
       "        0.16061095, 0.08995264, 0.97082236, 0.81657757, 0.57136573]])"
      ]
     },
     "execution_count": 7,
     "metadata": {},
     "output_type": "execute_result"
    }
   ],
   "source": [
    "x_train[:3,:]"
   ]
  },
  {
   "cell_type": "code",
   "execution_count": 8,
   "metadata": {},
   "outputs": [
    {
     "name": "stdout",
     "output_type": "stream",
     "text": [
      "63/63 [==============================] - 0s 720us/step - loss: 0.6940 - accuracy: 0.4795\n",
      "loss  :  0.6939980983734131\n",
      "accuracy  :  0.4794999957084656\n"
     ]
    }
   ],
   "source": [
    "results = model.evaluate(x_test, y_test)\n",
    "\n",
    "for i in range(len(model.metrics_names)):\n",
    "    print(model.metrics_names[i],\" : \", results[i])\n"
   ]
  },
  {
   "cell_type": "code",
   "execution_count": 9,
   "metadata": {},
   "outputs": [
    {
     "name": "stdout",
     "output_type": "stream",
     "text": [
      "Epoch 1/30\n",
      "188/188 [==============================] - 0s 1ms/step - loss: 0.6930 - accuracy: 0.5105 - val_loss: 0.6927 - val_accuracy: 0.5110\n",
      "Epoch 2/30\n",
      "188/188 [==============================] - 0s 1ms/step - loss: 0.6925 - accuracy: 0.5188 - val_loss: 0.6931 - val_accuracy: 0.5070\n",
      "Epoch 3/30\n",
      "188/188 [==============================] - 0s 1ms/step - loss: 0.6926 - accuracy: 0.5192 - val_loss: 0.6923 - val_accuracy: 0.5150\n",
      "Epoch 4/30\n",
      "188/188 [==============================] - 0s 1ms/step - loss: 0.6926 - accuracy: 0.5122 - val_loss: 0.6928 - val_accuracy: 0.5055\n",
      "Epoch 5/30\n",
      "188/188 [==============================] - 0s 1ms/step - loss: 0.6924 - accuracy: 0.5153 - val_loss: 0.6920 - val_accuracy: 0.5190\n",
      "Epoch 6/30\n",
      "188/188 [==============================] - 0s 1ms/step - loss: 0.6921 - accuracy: 0.5193 - val_loss: 0.6923 - val_accuracy: 0.5155\n",
      "Epoch 7/30\n",
      "188/188 [==============================] - 0s 1ms/step - loss: 0.6914 - accuracy: 0.5315 - val_loss: 0.6922 - val_accuracy: 0.5165\n",
      "Epoch 8/30\n",
      "188/188 [==============================] - 0s 1ms/step - loss: 0.6921 - accuracy: 0.5163 - val_loss: 0.6920 - val_accuracy: 0.5165\n",
      "Epoch 9/30\n",
      "188/188 [==============================] - 0s 1ms/step - loss: 0.6915 - accuracy: 0.5225 - val_loss: 0.6923 - val_accuracy: 0.5175\n",
      "Epoch 10/30\n",
      "188/188 [==============================] - 0s 1ms/step - loss: 0.6919 - accuracy: 0.5185 - val_loss: 0.6923 - val_accuracy: 0.5270\n",
      "Epoch 11/30\n",
      "188/188 [==============================] - 0s 1ms/step - loss: 0.6904 - accuracy: 0.5315 - val_loss: 0.6917 - val_accuracy: 0.5200\n",
      "Epoch 12/30\n",
      "188/188 [==============================] - 0s 1ms/step - loss: 0.6910 - accuracy: 0.5297 - val_loss: 0.6935 - val_accuracy: 0.5250\n",
      "Epoch 13/30\n",
      "188/188 [==============================] - 0s 1ms/step - loss: 0.6899 - accuracy: 0.5345 - val_loss: 0.6966 - val_accuracy: 0.5130\n",
      "Epoch 14/30\n",
      "188/188 [==============================] - 0s 1ms/step - loss: 0.6896 - accuracy: 0.5345 - val_loss: 0.6934 - val_accuracy: 0.5100\n",
      "Epoch 15/30\n",
      "188/188 [==============================] - 0s 1ms/step - loss: 0.6887 - accuracy: 0.5388 - val_loss: 0.6921 - val_accuracy: 0.5315\n",
      "Epoch 16/30\n",
      "188/188 [==============================] - 0s 1ms/step - loss: 0.6873 - accuracy: 0.5520 - val_loss: 0.6942 - val_accuracy: 0.5080\n",
      "Epoch 17/30\n",
      "188/188 [==============================] - 0s 1ms/step - loss: 0.6877 - accuracy: 0.5420 - val_loss: 0.6925 - val_accuracy: 0.5275\n",
      "Epoch 18/30\n",
      "188/188 [==============================] - 0s 1ms/step - loss: 0.6869 - accuracy: 0.5488 - val_loss: 0.6939 - val_accuracy: 0.5110\n",
      "Epoch 19/30\n",
      "188/188 [==============================] - 0s 1ms/step - loss: 0.6863 - accuracy: 0.5470 - val_loss: 0.6926 - val_accuracy: 0.5160\n",
      "Epoch 20/30\n",
      "188/188 [==============================] - 0s 1ms/step - loss: 0.6851 - accuracy: 0.5522 - val_loss: 0.6936 - val_accuracy: 0.5190\n",
      "Epoch 21/30\n",
      "188/188 [==============================] - 0s 1ms/step - loss: 0.6842 - accuracy: 0.5537 - val_loss: 0.6983 - val_accuracy: 0.5020\n",
      "Epoch 22/30\n",
      "188/188 [==============================] - 0s 1ms/step - loss: 0.6845 - accuracy: 0.5548 - val_loss: 0.6966 - val_accuracy: 0.5110\n",
      "Epoch 23/30\n",
      "188/188 [==============================] - 0s 1ms/step - loss: 0.6828 - accuracy: 0.5538 - val_loss: 0.6973 - val_accuracy: 0.5105\n",
      "Epoch 24/30\n",
      "188/188 [==============================] - 0s 1ms/step - loss: 0.6815 - accuracy: 0.5622 - val_loss: 0.6972 - val_accuracy: 0.5055\n",
      "Epoch 25/30\n",
      "188/188 [==============================] - 0s 1ms/step - loss: 0.6785 - accuracy: 0.5675 - val_loss: 0.7004 - val_accuracy: 0.5135\n",
      "Epoch 26/30\n",
      "188/188 [==============================] - 0s 1ms/step - loss: 0.6788 - accuracy: 0.5687 - val_loss: 0.7004 - val_accuracy: 0.5075\n",
      "Epoch 27/30\n",
      "188/188 [==============================] - 0s 1ms/step - loss: 0.6774 - accuracy: 0.5775 - val_loss: 0.7010 - val_accuracy: 0.5100\n",
      "Epoch 28/30\n",
      "188/188 [==============================] - 0s 1ms/step - loss: 0.6764 - accuracy: 0.5750 - val_loss: 0.7001 - val_accuracy: 0.5100\n",
      "Epoch 29/30\n",
      "188/188 [==============================] - 0s 1ms/step - loss: 0.6739 - accuracy: 0.5867 - val_loss: 0.7004 - val_accuracy: 0.5015\n",
      "Epoch 30/30\n",
      "188/188 [==============================] - 0s 1ms/step - loss: 0.6717 - accuracy: 0.5817 - val_loss: 0.7051 - val_accuracy: 0.5070\n"
     ]
    },
    {
     "data": {
      "text/plain": [
       "<keras.callbacks.History at 0x7fcdefc1dfd0>"
      ]
     },
     "execution_count": 9,
     "metadata": {},
     "output_type": "execute_result"
    }
   ],
   "source": [
    "#Train the model\n",
    "model.fit(x_train, y_train, batch_size=32, epochs=30, validation_data=(x_val,y_val))\n"
   ]
  },
  {
   "cell_type": "code",
   "execution_count": 10,
   "metadata": {},
   "outputs": [
    {
     "name": "stdout",
     "output_type": "stream",
     "text": [
      "63/63 [==============================] - 0s 846us/step - loss: 0.7122 - accuracy: 0.4860\n",
      "loss  :  0.7121918797492981\n",
      "accuracy  :  0.4860000014305115\n"
     ]
    }
   ],
   "source": [
    "results = model.evaluate(x_test, y_test)\n",
    "\n",
    "for i in range(len(model.metrics_names)):\n",
    "    print(model.metrics_names[i],\" : \", results[i])\n",
    "\n"
   ]
  },
  {
   "cell_type": "markdown",
   "metadata": {},
   "source": [
    "#### Learn Keras for Deep Neural Networks\n",
    "#### Chapter 2 - Keras in Action"
   ]
  },
  {
   "cell_type": "code",
   "execution_count": null,
   "metadata": {},
   "outputs": [],
   "source": []
  }
 ],
 "metadata": {
  "kernelspec": {
   "display_name": "Python 3 (ipykernel)",
   "language": "python",
   "name": "python3"
  },
  "language_info": {
   "codemirror_mode": {
    "name": "ipython",
    "version": 3
   },
   "file_extension": ".py",
   "mimetype": "text/x-python",
   "name": "python",
   "nbconvert_exporter": "python",
   "pygments_lexer": "ipython3",
   "version": "3.7.13"
  }
 },
 "nbformat": 4,
 "nbformat_minor": 4
}
